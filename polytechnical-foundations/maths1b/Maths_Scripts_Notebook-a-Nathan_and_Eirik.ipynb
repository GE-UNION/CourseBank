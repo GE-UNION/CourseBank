{
 "cells": [
  {
   "metadata": {},
   "cell_type": "markdown",
   "source": "Initialisation script (run first and see required libraries):",
   "id": "680c418e733ee4cf"
  },
  {
   "metadata": {
    "ExecuteTime": {
     "end_time": "2025-05-25T12:03:34.161595Z",
     "start_time": "2025-05-25T12:03:32.884069Z"
    }
   },
   "cell_type": "code",
   "source": [
    "# Required libraries: numpy, sympy, matplotlib\n",
    "import numpy as np\n",
    "import matplotlib.pyplot as plt\n",
    "import sympy as sp\n",
    "from IPython.display import display, Math\n",
    "\n",
    "sp.init_printing(use_latex=True)"
   ],
   "id": "fbc121e30a2defb3",
   "outputs": [],
   "execution_count": 1
  },
  {
   "metadata": {},
   "cell_type": "markdown",
   "source": [
    "### Normality check\n",
    "Check if a matrix is normal (change line 4 to check other properties)\n",
    "\n",
    "This checks that $A\\cdot A^* = A^*\\cdot A$.</br>\n",
    "This script checks that a matrix is normal for a given set of values.</br>\n",
    "To check just one matrix, ignore the variable 't'."
   ],
   "id": "7892f37fb805a781"
  },
  {
   "metadata": {
    "ExecuteTime": {
     "end_time": "2025-05-25T12:03:48.985361Z",
     "start_time": "2025-05-25T12:03:48.977948Z"
    }
   },
   "cell_type": "code",
   "source": [
    "# Which value t is the matrix normal: A A* = A* A\n",
    "I = np.sqrt(-1) # in case you need :)\n",
    "def is_normal(matrix):\n",
    "    return np.allclose(matrix @ matrix.conj().T, matrix.conj().T @ matrix)\n",
    "\n",
    "# List of t values to check\n",
    "t_values = [0, 1, 2, 3, 4, 5, 6]\n",
    "\n",
    "# Check normality for each t\n",
    "for t in t_values:\n",
    "    A = np.array([\n",
    "        [1, 2, 3, 4],\n",
    "        [4, 1, 2, 3],\n",
    "        [3, 4, 1, 2],\n",
    "        [t, 3, 4, 1]\n",
    "    ], dtype=complex)\n",
    "\n",
    "    if is_normal(A):\n",
    "        print(f\"Matrix is normal for t = {t}\")\n",
    "    else:\n",
    "        print(f\"Matrix is NOT normal for t = {t}\")"
   ],
   "id": "1c27343df80d5ec0",
   "outputs": [
    {
     "name": "stdout",
     "output_type": "stream",
     "text": [
      "Matrix is NOT normal for t = 0\n",
      "Matrix is NOT normal for t = 1\n",
      "Matrix is normal for t = 2\n",
      "Matrix is NOT normal for t = 3\n",
      "Matrix is NOT normal for t = 4\n",
      "Matrix is NOT normal for t = 5\n",
      "Matrix is NOT normal for t = 6\n"
     ]
    }
   ],
   "execution_count": 2
  },
  {
   "metadata": {},
   "cell_type": "markdown",
   "source": [
    "### Eigenvalues and eigenvectors from matrix\n",
    "Enter a matrix, and it will give all eigenvalues, along with their corresponding eigenvector.</br>\n",
    "The orthogonal matrix is also provided. This corresponds to only the eigenvalues in the given order."
   ],
   "id": "3d0abe36486bbb37"
  },
  {
   "metadata": {
    "ExecuteTime": {
     "end_time": "2025-05-14T07:15:32.279996Z",
     "start_time": "2025-05-14T07:15:32.110249Z"
    }
   },
   "cell_type": "code",
   "source": [
    "# Enter your matrix\n",
    "A = sp.Matrix([[1, 1, -4],\n",
    "               [1, 4, -1],\n",
    "               [-4, -1, 1]])\n",
    "\n",
    "eigen = A.eigenvects()\n",
    "eigenvalues = [ev[0] for ev in eigen]\n",
    "eigenvectors = [ev[2][0].normalized() for ev in eigen]\n",
    "for i in range(len(eigen)):\n",
    "    display(Math(f\"\\\\lambda_{i+1}:~~~\" + sp.latex(eigenvalues[i]) + \"~~,~\" + sp.latex(eigenvectors[i])))\n",
    "\n",
    "# Orthogonal change-of-basis matrix Q\n",
    "Q = sp.Matrix.hstack(*eigenvectors)\n",
    "\n",
    "print(\"\\nOrthogonal matrix Q:\")\n",
    "display(Q)"
   ],
   "id": "9eebafd6d02563b2",
   "outputs": [
    {
     "data": {
      "text/plain": [
       "<IPython.core.display.Math object>"
      ],
      "text/latex": "$\\displaystyle \\lambda_1:~~~-3~~,~\\left[\\begin{matrix}\\frac{\\sqrt{2}}{2}\\\\0\\\\\\frac{\\sqrt{2}}{2}\\end{matrix}\\right]$"
     },
     "metadata": {},
     "output_type": "display_data"
    },
    {
     "data": {
      "text/plain": [
       "<IPython.core.display.Math object>"
      ],
      "text/latex": "$\\displaystyle \\lambda_2:~~~3~~,~\\left[\\begin{matrix}- \\frac{\\sqrt{6}}{6}\\\\\\frac{\\sqrt{6}}{3}\\\\\\frac{\\sqrt{6}}{6}\\end{matrix}\\right]$"
     },
     "metadata": {},
     "output_type": "display_data"
    },
    {
     "data": {
      "text/plain": [
       "<IPython.core.display.Math object>"
      ],
      "text/latex": "$\\displaystyle \\lambda_3:~~~6~~,~\\left[\\begin{matrix}- \\frac{\\sqrt{3}}{3}\\\\- \\frac{\\sqrt{3}}{3}\\\\\\frac{\\sqrt{3}}{3}\\end{matrix}\\right]$"
     },
     "metadata": {},
     "output_type": "display_data"
    },
    {
     "name": "stdout",
     "output_type": "stream",
     "text": [
      "\n",
      "Orthogonal matrix Q:\n"
     ]
    },
    {
     "data": {
      "text/plain": [
       "⎡√2  -√6   -√3 ⎤\n",
       "⎢──  ────  ────⎥\n",
       "⎢2    6     3  ⎥\n",
       "⎢              ⎥\n",
       "⎢     √6   -√3 ⎥\n",
       "⎢0    ──   ────⎥\n",
       "⎢     3     3  ⎥\n",
       "⎢              ⎥\n",
       "⎢√2   √6    √3 ⎥\n",
       "⎢──   ──    ── ⎥\n",
       "⎣2    6     3  ⎦"
      ],
      "text/latex": "$\\displaystyle \\left[\\begin{matrix}\\frac{\\sqrt{2}}{2} & - \\frac{\\sqrt{6}}{6} & - \\frac{\\sqrt{3}}{3}\\\\0 & \\frac{\\sqrt{6}}{3} & - \\frac{\\sqrt{3}}{3}\\\\\\frac{\\sqrt{2}}{2} & \\frac{\\sqrt{6}}{6} & \\frac{\\sqrt{3}}{3}\\end{matrix}\\right]$"
     },
     "metadata": {},
     "output_type": "display_data"
    }
   ],
   "execution_count": 13
  },
  {
   "metadata": {},
   "cell_type": "markdown",
   "source": [
    "### Gradient method\n",
    "Use the gradient method (gradient descent) to find the smallest possible value of a multivariable function.</br>\n",
    "It iterates over a function, moving in steps in the opposite direction of the gradient to find the minimum value."
   ],
   "id": "fcc94b88eb25c9cb"
  },
  {
   "metadata": {
    "ExecuteTime": {
     "end_time": "2025-05-13T14:42:17.984027Z",
     "start_time": "2025-05-13T14:42:17.973259Z"
    }
   },
   "cell_type": "code",
   "source": [
    "# Define symbols\n",
    "x1, x2, x3 = sp.symbols('x1 x2 x3')\n",
    "x = sp.Matrix([x1, x2, x3])\n",
    "\n",
    "# Inputs\n",
    "q = 5*x1**2 + 5*x2**2 + 8*x3**2 + 8*x1*x2 - 4*x1*x3 + 4*x2*x3 - 22*x1 - 32*x2 - 20*x3 + 53 # Function\n",
    "a = 0.02 # Step size (aka learning rate)\n",
    "x0 = np.array([2, 2, 2]) # Starting point (initial guess)\n",
    "target = 10 # Number of iterations to perform\n",
    "\n",
    "# Compute the gradient symbolically\n",
    "grad_q = sp.Matrix([sp.diff(q, var) for var in x])\n",
    "\n",
    "# Convert symbolic gradient to a numerical function\n",
    "grad_q_func = sp.lambdify((x1, x2, x3), grad_q, 'numpy')\n",
    "\n",
    "# Perform iterations\n",
    "for _ in range(target):\n",
    "    grad_val = np.array(grad_q_func(*x0)).astype(float).flatten()\n",
    "    x0 = x0 - a * grad_val\n",
    "\n",
    "display(Math(f\"x_{{{target}}} ={sp.Matrix(x0)._repr_latex_().replace('$', '')}\"))"
   ],
   "id": "5bb894de2d579097",
   "outputs": [
    {
     "data": {
      "text/plain": [
       "<IPython.core.display.Math object>"
      ],
      "text/latex": "$\\displaystyle x_{10} =\\displaystyle \\left[\\begin{matrix}1.67050973834869\\\\1.34101947669738\\\\1.34101947669738\\end{matrix}\\right]$"
     },
     "metadata": {},
     "output_type": "display_data"
    }
   ],
   "execution_count": 127
  },
  {
   "metadata": {},
   "cell_type": "markdown",
   "source": [
    "### Determine stationary points\n",
    "Input a list of points and a function to get whether each point is stationary and what type."
   ],
   "id": "39ed12de3c092cdf"
  },
  {
   "metadata": {
    "ExecuteTime": {
     "end_time": "2025-05-13T14:52:01.351714Z",
     "start_time": "2025-05-13T14:52:01.343506Z"
    }
   },
   "cell_type": "code",
   "source": [
    "# Define symbols\n",
    "x1, x2, x3 = sp.symbols('x1 x2 x3')\n",
    "x = sp.Matrix([x1, x2, x3])\n",
    "# Inputs\n",
    "q = 5*x1**2 + 5*x2**2 + 8*x3**2 + 8*x1*x2 - 4*x1*x3 + 4*x2*x3 - 22*x1 - 32*x2 - 20*x3 + 53\n",
    "points = [(-1,4,0),(2,-2,1),(1,2,1),(-3,6,-1),(3,0,2),(-19,16,10)]\n",
    "\n",
    "# Compute the gradient symbolically\n",
    "grad_q = sp.Matrix([sp.diff(q, var) for var in x])\n",
    "hessian_q = grad_q.jacobian(x)\n",
    "\n",
    "# for each point, determine if stationary\n",
    "table = \"\\\\begin{array}{c|rl}\"\n",
    "for point in points:\n",
    "    grad_at_point = grad_q.subs({x1: point[0], x2: point[1], x3: point[2]})\n",
    "    if all(val == 0 for val in grad_at_point):\n",
    "        table += f\"{point}& \\\\text{{stationary}}&\"\n",
    "        # Evaluate Hessian at the point\n",
    "        hess_val = hessian_q.subs({x1: point[0], x2: point[1], x3: point[2]})\n",
    "        hess_val_np = np.array(hess_val.tolist(), dtype=np.float64)\n",
    "        eigvals = np.linalg.eigvals(hess_val_np)\n",
    "\n",
    "        if np.all(eigvals > 0):\n",
    "            table += \"\\\\text{→~~~~Local minimum}\\\\\\\\\"\n",
    "        elif np.all(eigvals < 0):\n",
    "            table += \"\\\\text{→~~~~Local maximum}\\\\\\\\\"\n",
    "        else:\n",
    "            table += \"\\\\text{→~~~~Saddle point}\\\\\\\\\"\n",
    "    else:\n",
    "        table += f\"{point} & \\\\text{{NOT stationary}}\\\\\\\\\"\n",
    "table+=\"\\\\end{array}\"\n",
    "display(Math(table.replace('$','')))"
   ],
   "id": "b3cf4780342668ad",
   "outputs": [
    {
     "data": {
      "text/plain": [
       "<IPython.core.display.Math object>"
      ],
      "text/latex": "$\\displaystyle \\begin{array}{c|rl}(-1, 4, 0)& \\text{stationary}&\\text{→~~~~Saddle point}\\\\(2, -2, 1) & \\text{NOT stationary}\\\\(1, 2, 1)& \\text{stationary}&\\text{→~~~~Saddle point}\\\\(-3, 6, -1)& \\text{stationary}&\\text{→~~~~Saddle point}\\\\(3, 0, 2)& \\text{stationary}&\\text{→~~~~Saddle point}\\\\(-19, 16, 10) & \\text{NOT stationary}\\\\\\end{array}$"
     },
     "metadata": {},
     "output_type": "display_data"
    }
   ],
   "execution_count": 137
  },
  {
   "metadata": {},
   "cell_type": "markdown",
   "source": [
    "### Find Jacobian matrix and determinant\n",
    "Enter a vector function to get the $\\text{Jac}$ and $\\det|\\text{Jac}|$"
   ],
   "id": "b50982bcf39a1ddc"
  },
  {
   "metadata": {
    "ExecuteTime": {
     "end_time": "2025-05-25T12:17:04.922823Z",
     "start_time": "2025-05-25T12:17:04.874619Z"
    }
   },
   "cell_type": "code",
   "source": [
    "# Define symbols\n",
    "u, v, w = sp.symbols('u v w')\n",
    "# Inputs\n",
    "vector = sp.Matrix([u*sp.cos(v),\n",
    "                    u*sp.sin(v)])\n",
    "\n",
    "Jac_matrix = vector.jacobian(sp.Matrix([u, v]))\n",
    "\n",
    "print(\"Jacobian matrix:\")\n",
    "display(Jac_matrix)\n",
    "print(\"\\nJacobian determinant:\")\n",
    "display(sp.det(Jac_matrix))"
   ],
   "id": "5b9625843ff81a81",
   "outputs": [
    {
     "name": "stdout",
     "output_type": "stream",
     "text": [
      "Jacobian matrix:\n"
     ]
    },
    {
     "data": {
      "text/plain": [
       "⎡cos(v)  -u⋅sin(v)⎤\n",
       "⎢                 ⎥\n",
       "⎣sin(v)  u⋅cos(v) ⎦"
      ],
      "text/latex": "$\\displaystyle \\left[\\begin{matrix}\\cos{\\left(v \\right)} & - u \\sin{\\left(v \\right)}\\\\\\sin{\\left(v \\right)} & u \\cos{\\left(v \\right)}\\end{matrix}\\right]$"
     },
     "metadata": {},
     "output_type": "display_data"
    },
    {
     "name": "stdout",
     "output_type": "stream",
     "text": [
      "\n",
      "Jacobian determinant:\n"
     ]
    },
    {
     "data": {
      "text/plain": [
       "     2           2   \n",
       "u⋅sin (v) + u⋅cos (v)"
      ],
      "image/png": "[encoded data removed]",
      "text/latex": "$\\displaystyle u \\sin^{2}{\\left(v \\right)} + u \\cos^{2}{\\left(v \\right)}$"
     },
     "metadata": {},
     "output_type": "display_data"
    }
   ],
   "execution_count": 5
  },
  {
   "metadata": {},
   "cell_type": "markdown",
   "source": [
    "### Find Hessian matrix and determinant at a point\n",
    "Enter a function and a specific point (optional) to get the Hessian matrix."
   ],
   "id": "d20abe638a554610"
  },
  {
   "metadata": {
    "ExecuteTime": {
     "end_time": "2025-05-25T12:20:04.326474Z",
     "start_time": "2025-05-25T12:20:04.264403Z"
    }
   },
   "cell_type": "code",
   "source": [
    "x, y = sp.symbols('x y')\n",
    "\n",
    "# Inputs\n",
    "f = 2*x**2 + y**2 - x*y**2\n",
    "point = (3,5)\n",
    "\n",
    "# Hessian matrix\n",
    "H = sp.hessian(f, (x, y))\n",
    "\n",
    "# Evaluate Hessian at a point\n",
    "H_point = H.subs({x: point[0], y: point[1]})\n",
    "\n",
    "# Determinant\n",
    "det_H = H_point.det()\n",
    "\n",
    "print(f\"Hessian matrix =\")\n",
    "display(H)\n",
    "print(f\"\\nHessian matrix at {point} =\")\n",
    "display(H_point)\n",
    "print(f\"\\nDeterminant of H at {point} = {det_H}\")"
   ],
   "id": "f728c4f537f6a3ec",
   "outputs": [
    {
     "name": "stdout",
     "output_type": "stream",
     "text": [
      "Hessian matrix =\n"
     ]
    },
    {
     "data": {
      "text/plain": [
       "⎡ 4     -2⋅y  ⎤\n",
       "⎢             ⎥\n",
       "⎣-2⋅y  2 - 2⋅x⎦"
      ],
      "text/latex": "$\\displaystyle \\left[\\begin{matrix}4 & - 2 y\\\\- 2 y & 2 - 2 x\\end{matrix}\\right]$"
     },
     "metadata": {},
     "output_type": "display_data"
    },
    {
     "name": "stdout",
     "output_type": "stream",
     "text": [
      "\n",
      "Hessian matrix at (3, 5) =\n"
     ]
    },
    {
     "data": {
      "text/plain": [
       "⎡ 4   -10⎤\n",
       "⎢        ⎥\n",
       "⎣-10  -4 ⎦"
      ],
      "text/latex": "$\\displaystyle \\left[\\begin{matrix}4 & -10\\\\-10 & -4\\end{matrix}\\right]$"
     },
     "metadata": {},
     "output_type": "display_data"
    },
    {
     "name": "stdout",
     "output_type": "stream",
     "text": [
      "\n",
      "Determinant of H at (3, 5) = -116\n"
     ]
    }
   ],
   "execution_count": 6
  },
  {
   "metadata": {},
   "cell_type": "markdown",
   "source": "### Riemann Integral",
   "id": "e7ce771ed5860bcc"
  },
  {
   "metadata": {
    "ExecuteTime": {
     "end_time": "2025-05-25T12:22:46.218265Z",
     "start_time": "2025-05-25T12:22:46.105194Z"
    }
   },
   "cell_type": "code",
   "source": [
    "# Define variables\n",
    "x,y,z = sp.symbols('x y z')\n",
    "u,v,w = sp.symbols('u v w')\n",
    "\n",
    "# Define vector field V\n",
    "V1 = x + sp.exp(y*z)\n",
    "V2 = 2*y - sp.exp(x*z)\n",
    "V3 = 3*z + sp.exp(x*y)\n",
    "\n",
    "# Compute divergence f = div(V)\n",
    "f = sp.diff(V1, x) + sp.diff(V2, y) + sp.diff(V3, z)\n",
    "f = sp.simplify(f)\n",
    "\n",
    "# Parametrization r(u,v,w)\n",
    "x_r = v * u**2 * sp.cos(w)\n",
    "y_r = v * u**2 * sp.sin(w)\n",
    "z_r = u\n",
    "\n",
    "# Create r vector\n",
    "r = sp.Matrix([x_r, y_r, z_r])\n",
    "\n",
    "# Compute Jacobian matrix: partial derivatives of r wrt u, v, w\n",
    "J = r.jacobian([u, v, w])\n",
    "Jacobian_det = sp.simplify(J.det())\n",
    "\n",
    "# Substitute x, y, z with parametric expressions in f\n",
    "f_subs = f.subs({x: x_r, y: y_r, z: z_r})\n",
    "\n",
    "# Full integrand: f(r(u,v,w)) * |det(Jacobian)|\n",
    "integrand = sp.simplify(f_subs * sp.Abs(Jacobian_det))\n",
    "\n",
    "# Perform the triple integral\n",
    "I = sp.integrate(integrand, (u, 0, 1), (v, 0, 1), (w, 0, sp.pi/2))\n",
    "\n",
    "# Output result\n",
    "display(Math(\"\\\\text{Divergence}~~f(x, y, z) = \" + sp.latex(f)))\n",
    "display(Math(\"\\\\text{Jacobian determinant} = \" + sp.latex(Jacobian_det)))\n",
    "display(Math(\"\\\\text{Triple integral result} =\" + sp.latex(I)))"
   ],
   "id": "d4613dfed6873eb6",
   "outputs": [
    {
     "data": {
      "text/plain": [
       "<IPython.core.display.Math object>"
      ],
      "text/latex": "$\\displaystyle \\text{Divergence}~~f(x, y, z) = 6$"
     },
     "metadata": {},
     "output_type": "display_data"
    },
    {
     "data": {
      "text/plain": [
       "<IPython.core.display.Math object>"
      ],
      "text/latex": "$\\displaystyle \\text{Jacobian determinant} = u^{4} v$"
     },
     "metadata": {},
     "output_type": "display_data"
    },
    {
     "data": {
      "text/plain": [
       "<IPython.core.display.Math object>"
      ],
      "text/latex": "$\\displaystyle \\text{Triple integral result} =\\frac{3 \\pi}{10}$"
     },
     "metadata": {},
     "output_type": "display_data"
    }
   ],
   "execution_count": 7
  },
  {
   "metadata": {},
   "cell_type": "markdown",
   "source": [
    "### Find function limit\n",
    "Insert a function and a limit to get the value of the function at the limit."
   ],
   "id": "136f0565bc2ab877"
  },
  {
   "metadata": {
    "ExecuteTime": {
     "end_time": "2025-05-25T12:29:04.929752Z",
     "start_time": "2025-05-25T12:29:04.892029Z"
    }
   },
   "cell_type": "code",
   "source": [
    "# Define the symbol and the piecewise function\n",
    "x,y = sp.symbols('x y')\n",
    "\n",
    "# Inputs\n",
    "f = (sp.cos(2*y)*(x**2-2*sp.sin(3*x)))/(5*x)\n",
    "lim = 0\n",
    "\n",
    "f_limit = sp.limit(f, x, lim)\n",
    "display(Math(\"\\\\lim_{x\\\\to\" + str(lim) + \"}\" + sp.latex(f) + \"=\" + sp.latex(f_limit)))"
   ],
   "id": "68d18e69cd70d2c9",
   "outputs": [
    {
     "data": {
      "text/plain": [
       "<IPython.core.display.Math object>"
      ],
      "text/latex": "$\\displaystyle \\lim_{x\\to0}\\frac{\\left(x^{2} - 2 \\sin{\\left(3 x \\right)}\\right) \\cos{\\left(2 y \\right)}}{5 x}=- \\frac{6 \\cos{\\left(2 y \\right)}}{5}$"
     },
     "metadata": {},
     "output_type": "display_data"
    }
   ],
   "execution_count": 11
  },
  {
   "metadata": {},
   "cell_type": "markdown",
   "source": [
    "### Taylor polynomial\n",
    "Works for 1, 2, or 3 variables. If only one or two variables are needed, just ignore them (leave variables as 0 on lines 6 and 7).</br>\n",
    "The below example uses 2 variables $(x,y)$. e.g. $z$ is left as 0."
   ],
   "id": "5225a68b32afa4d1"
  },
  {
   "metadata": {
    "ExecuteTime": {
     "end_time": "2025-05-25T12:39:59.298446Z",
     "start_time": "2025-05-25T12:39:59.218510Z"
    }
   },
   "cell_type": "code",
   "source": [
    "x, y, z = sp.symbols('x y z')\n",
    "\n",
    "# Inputs\n",
    "f = sp.exp(x)*sp.cos(y) # Function\n",
    "order = 3 # Highest degree\n",
    "x0 = (0,0,0) # Expansion point\n",
    "new_point = (1,-1,0) # Point to approximate value of (optional)\n",
    "\n",
    "approximation = f.series(x, x0[0], order+1).removeO().series(y, x0[1], order+1).removeO().series(z, x0[2], order+1).removeO()\n",
    "\n",
    "display(Math(\"f(x,y,z)=\" + sp.latex(f)))\n",
    "display(Math(\"P_{f,x_0}(x,y,z)=\" + sp.latex(approximation, order='rev-lex')))\n",
    "display(Math(\"P_{f,x_0}\" + str(new_point) + \"=\" + sp.latex(approximation.subs({x:new_point[0], y:new_point[1], z:new_point[2]}))))"
   ],
   "id": "df50f8cccb9b36c7",
   "outputs": [
    {
     "data": {
      "text/plain": [
       "<IPython.core.display.Math object>"
      ],
      "text/latex": "$\\displaystyle f(x,y,z)=e^{x} \\cos{\\left(y \\right)}$"
     },
     "metadata": {},
     "output_type": "display_data"
    },
    {
     "data": {
      "text/plain": [
       "<IPython.core.display.Math object>"
      ],
      "text/latex": "$\\displaystyle P_{f,x_0}(x,y,z)=1 + y^{2} \\left(- \\frac{1}{2} - \\frac{x}{2} - \\frac{x^{2}}{4} - \\frac{x^{3}}{12}\\right) + x + \\frac{x^{2}}{2} + \\frac{x^{3}}{6}$"
     },
     "metadata": {},
     "output_type": "display_data"
    },
    {
     "data": {
      "text/plain": [
       "<IPython.core.display.Math object>"
      ],
      "text/latex": "$\\displaystyle P_{f,x_0}(1, -1, 0)=\\frac{4}{3}$"
     },
     "metadata": {},
     "output_type": "display_data"
    }
   ],
   "execution_count": 19
  },
  {
   "metadata": {},
   "cell_type": "markdown",
   "source": [
    "### Orthogonalise vectors (Gram-Schmidt)\n",
    "Input a list of vectors (line 21) to get the corresponding orthogonal and orthonormal set of vectors.</br>\n",
    "This will output a list of vectors in the form:</br>\n",
    "$\\text{Vector}~\\to~\\text{Orthogonal vector}~\\to~\\text{Orthonormal vector}$</br>\n",
    "An orthonormal vector is both orthogonal and normal (has length of 1).</br>\n",
    "If your inputs do not change after being orthogonalised, they already form an orthogonal basis."
   ],
   "id": "ad676893a61b42e7"
  },
  {
   "metadata": {
    "ExecuteTime": {
     "end_time": "2025-05-14T08:44:17.914955Z",
     "start_time": "2025-05-14T08:44:17.865478Z"
    }
   },
   "cell_type": "code",
   "source": [
    "def gram_schmidt(vectors):\n",
    "    ortho_vectors = []\n",
    "    ortho_normal_vectors = []\n",
    "    for v in vectors:\n",
    "        w = v\n",
    "        for u in ortho_vectors:\n",
    "            proj = (u.dot(w) / u.dot(u)) * u\n",
    "            w = w - proj\n",
    "        ortho_vectors.append(sp.simplify(w))\n",
    "\n",
    "        norm = sp.sqrt(w.dot(w))\n",
    "        if norm != 0:\n",
    "            normalized = sp.simplify(w / norm)\n",
    "        else:\n",
    "            normalized = w  # Handle zero vector case\n",
    "        ortho_normal_vectors.append(normalized)\n",
    "    return ortho_vectors, ortho_normal_vectors\n",
    "\n",
    "# Define any number of column vectors\n",
    "input_vectors = [sp.Matrix([1, 3, 0]),\n",
    "                 sp.Matrix([6, -2, 1]),\n",
    "                 sp.Matrix([3, -1, -20])]\n",
    "\n",
    "# Apply Gram-Schmidt\n",
    "orthogonal, orthonormal = gram_schmidt(input_vectors)\n",
    "\n",
    "# Print results\n",
    "for i, vec in enumerate(orthogonal, 1):\n",
    "    display(Math(f\"{sp.latex(input_vectors[i-1])} ~~\\\\to~~ {sp.latex(vec)} ~~\\\\to~~ {sp.latex(orthonormal[i-1])}\"))"
   ],
   "id": "37ce15f99976ec29",
   "outputs": [
    {
     "data": {
      "text/plain": [
       "<IPython.core.display.Math object>"
      ],
      "text/latex": "$\\displaystyle \\left[\\begin{matrix}1\\\\3\\\\0\\end{matrix}\\right] ~~\\to~~ \\left[\\begin{matrix}1\\\\3\\\\0\\end{matrix}\\right] ~~\\to~~ \\left[\\begin{matrix}\\frac{\\sqrt{10}}{10}\\\\\\frac{3 \\sqrt{10}}{10}\\\\0\\end{matrix}\\right]$"
     },
     "metadata": {},
     "output_type": "display_data"
    },
    {
     "data": {
      "text/plain": [
       "<IPython.core.display.Math object>"
      ],
      "text/latex": "$\\displaystyle \\left[\\begin{matrix}6\\\\-2\\\\1\\end{matrix}\\right] ~~\\to~~ \\left[\\begin{matrix}6\\\\-2\\\\1\\end{matrix}\\right] ~~\\to~~ \\left[\\begin{matrix}\\frac{6 \\sqrt{41}}{41}\\\\- \\frac{2 \\sqrt{41}}{41}\\\\\\frac{\\sqrt{41}}{41}\\end{matrix}\\right]$"
     },
     "metadata": {},
     "output_type": "display_data"
    },
    {
     "data": {
      "text/plain": [
       "<IPython.core.display.Math object>"
      ],
      "text/latex": "$\\displaystyle \\left[\\begin{matrix}3\\\\-1\\\\-20\\end{matrix}\\right] ~~\\to~~ \\left[\\begin{matrix}3\\\\-1\\\\-20\\end{matrix}\\right] ~~\\to~~ \\left[\\begin{matrix}\\frac{3 \\sqrt{410}}{410}\\\\- \\frac{\\sqrt{410}}{410}\\\\- \\frac{2 \\sqrt{410}}{41}\\end{matrix}\\right]$"
     },
     "metadata": {},
     "output_type": "display_data"
    }
   ],
   "execution_count": 64
  }
 ],
 "metadata": {
  "kernelspec": {
   "display_name": "Python 3",
   "language": "python",
   "name": "python3"
  },
  "language_info": {
   "codemirror_mode": {
    "name": "ipython",
    "version": 2
   },
   "file_extension": ".py",
   "mimetype": "text/x-python",
   "name": "python",
   "nbconvert_exporter": "python",
   "pygments_lexer": "ipython2",
   "version": "2.7.6"
  }
 },
 "nbformat": 4,
 "nbformat_minor": 5
}
